{
 "cells": [
  {
   "cell_type": "markdown",
   "metadata": {},
   "source": [
    "<center>\n",
    "    <img src=\"https://s3-api.us-geo.objectstorage.softlayer.net/cf-courses-data/CognitiveClass/Logos/organization_logo/organization_logo.png\" width=\"300\" alt=\"cognitiveclass.ai logo\"  />\n",
    "</center>\n"
   ]
  },
  {
   "cell_type": "markdown",
   "metadata": {},
   "source": [
    "#### Add your code below following the instructions given in the course\n"
   ]
  },
  {
   "cell_type": "markdown",
   "metadata": {},
   "source": [
    "# My Jupyter Notebook on IBM Watson Studio"
   ]
  },
  {
   "cell_type": "markdown",
   "metadata": {},
   "source": [
    "**DEEP SHANKAR PRATAP SINGH**</BR>\n",
    "STUDENT OF ARTIFICAL INTELLIGENCE AT LVIV POLYTECHNIC NATIONAL UNIVERSITY"
   ]
  },
  {
   "cell_type": "markdown",
   "metadata": {},
   "source": [
    "*I am interested in data science because I think there's a lot more stuff we can do with the big data now, as the AI is advancing in this era it is opening up a new portal to the the endless possibilities to work with data, and I'm learning data science so that I can find and explore new things when it comes to this data, moreover I want to become a data scientist and learning data science is the key to become one.*"
   ]
  },
  {
   "cell_type": "markdown",
   "metadata": {},
   "source": [
    "### I am creating a basic code in which I'm going to add two integer numbers, the name of first variable is 'a', second variable is 'd' and the result of the sum of two numbers is stored in the variable name 'r' which is later displayed using the 'print' function."
   ]
  },
  {
   "cell_type": "code",
   "execution_count": 3,
   "metadata": {
    "tags": []
   },
   "outputs": [
    {
     "name": "stdout",
     "output_type": "stream",
     "text": [
      "Sum of two numbers is  29\n"
     ]
    }
   ],
   "source": [
    "a = 7\n",
    "d = 22\n",
    "r = a + d\n",
    "print(\"Sum of two numbers is \", r)"
   ]
  },
  {
   "cell_type": "markdown",
   "metadata": {},
   "source": [
    "* This is bullet list\n",
    "* This is also bullet list\n",
    "\n",
    "1. This is numbered list\n",
    "2. This is also numbered list\n",
    "\n",
    "`Here is some highlighted code!`\n",
    "\n",
    "***\n",
    "\n",
    "Here is some horizontel text!\n",
    "\n",
    "***"
   ]
  }
 ],
 "metadata": {
  "kernelspec": {
   "display_name": "Python",
   "language": "python",
   "name": "conda-env-python-py"
  },
  "language_info": {
   "codemirror_mode": {
    "name": "ipython",
    "version": 3
   },
   "file_extension": ".py",
   "mimetype": "text/x-python",
   "name": "python",
   "nbconvert_exporter": "python",
   "pygments_lexer": "ipython3",
   "version": "3.7.12"
  }
 },
 "nbformat": 4,
 "nbformat_minor": 4
}
